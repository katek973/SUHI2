{
  "cells": [
    {
      "cell_type": "markdown",
      "metadata": {
        "id": "view-in-github",
        "colab_type": "text"
      },
      "source": [
        "<a href=\"https://colab.research.google.com/github/katek973/SUHI2/blob/main/SUHI_KK_v1.ipynb\" target=\"_parent\"><img src=\"https://colab.research.google.com/assets/colab-badge.svg\" alt=\"Open In Colab\"/></a>"
      ]
    },
    {
      "cell_type": "markdown",
      "id": "7d0d7aaa-1099-472a-ad16-ec4d8f965d46",
      "metadata": {
        "id": "7d0d7aaa-1099-472a-ad16-ec4d8f965d46"
      },
      "source": [
        "# Loading Data"
      ]
    },
    {
      "cell_type": "code",
      "execution_count": null,
      "id": "1b470a9d-697e-4d0a-ba77-65095cd278ea",
      "metadata": {
        "id": "1b470a9d-697e-4d0a-ba77-65095cd278ea"
      },
      "outputs": [],
      "source": [
        "import numpy as np\n",
        "import pandas as pd\n",
        "\n",
        "import matplotlib.pyplot as plt\n",
        "%matplotlib inline\n",
        "from wordcloud import WordCloud"
      ]
    },
    {
      "cell_type": "code",
      "execution_count": null,
      "id": "81b9fd8c-a3bc-457a-9513-e7941bcfc962",
      "metadata": {
        "colab": {
          "base_uri": "https://localhost:8080/",
          "height": 386
        },
        "id": "81b9fd8c-a3bc-457a-9513-e7941bcfc962",
        "outputId": "eb02e41d-b807-48f8-b991-6ac6fe29f045"
      },
      "outputs": [
        {
          "output_type": "execute_result",
          "data": {
            "text/plain": [
              "   record_id redcap_event_name  new_patient  type_id  chw_name  \\\n",
              "0          2     round_1_arm_1          0.0      1.0       3.0   \n",
              "1          2     round_2_arm_1          0.0      1.0       3.0   \n",
              "2          4     round_1_arm_1          1.0      1.0       2.0   \n",
              "3          5     round_1_arm_1          1.0      1.0       2.0   \n",
              "4          5     round_2_arm_1          0.0      1.0       2.0   \n",
              "\n",
              "   inperson_connection    sw_date referral_date  referral_month  \\\n",
              "0                  NaN 2021-04-12    2021-04-12          2104.0   \n",
              "1                  NaN 2021-05-24    2021-05-26          2105.0   \n",
              "2                  NaN 2021-04-12    2021-04-12          2104.0   \n",
              "3                  NaN 2021-04-12    2021-04-12          2104.0   \n",
              "4                  NaN 2021-09-21    2021-09-23          2109.0   \n",
              "\n",
              "   referral_source  ... day_readmit time_spent_1  time_spent_2  \\\n",
              "0              1.0  ...         0.0          0.0           0.0   \n",
              "1              1.0  ...         NaN          NaN           NaN   \n",
              "2              1.0  ...         NaN          NaN           NaN   \n",
              "3              1.0  ...         0.0         35.0          15.0   \n",
              "4              1.0  ...         0.0          0.0          15.0   \n",
              "\n",
              "   total_time_spent  contact_attempts  case_closed  closed_date  declined  \\\n",
              "0               0.0               3.0          1.0   2021-05-25       NaN   \n",
              "1               NaN               NaN          1.0          NaT       NaN   \n",
              "2               NaN               NaN          1.0   2021-04-23       NaN   \n",
              "3              50.0               4.0          1.0   2021-05-14       NaN   \n",
              "4              15.0               3.0          1.0   2021-10-22       NaN   \n",
              "\n",
              "           anything_else  follow_up_chws_complete_later_complete  \n",
              "0                    NaN                                       2  \n",
              "1                    NaN                                       2  \n",
              "2  Patient not available                                       2  \n",
              "3                    NaN                                       2  \n",
              "4                    NaN                                       2  \n",
              "\n",
              "[5 rows x 315 columns]"
            ],
            "text/html": [
              "\n",
              "  <div id=\"df-99f26d0b-651e-4252-97b7-2f846cf14e7e\">\n",
              "    <div class=\"colab-df-container\">\n",
              "      <div>\n",
              "<style scoped>\n",
              "    .dataframe tbody tr th:only-of-type {\n",
              "        vertical-align: middle;\n",
              "    }\n",
              "\n",
              "    .dataframe tbody tr th {\n",
              "        vertical-align: top;\n",
              "    }\n",
              "\n",
              "    .dataframe thead th {\n",
              "        text-align: right;\n",
              "    }\n",
              "</style>\n",
              "<table border=\"1\" class=\"dataframe\">\n",
              "  <thead>\n",
              "    <tr style=\"text-align: right;\">\n",
              "      <th></th>\n",
              "      <th>record_id</th>\n",
              "      <th>redcap_event_name</th>\n",
              "      <th>new_patient</th>\n",
              "      <th>type_id</th>\n",
              "      <th>chw_name</th>\n",
              "      <th>inperson_connection</th>\n",
              "      <th>sw_date</th>\n",
              "      <th>referral_date</th>\n",
              "      <th>referral_month</th>\n",
              "      <th>referral_source</th>\n",
              "      <th>...</th>\n",
              "      <th>day_readmit</th>\n",
              "      <th>time_spent_1</th>\n",
              "      <th>time_spent_2</th>\n",
              "      <th>total_time_spent</th>\n",
              "      <th>contact_attempts</th>\n",
              "      <th>case_closed</th>\n",
              "      <th>closed_date</th>\n",
              "      <th>declined</th>\n",
              "      <th>anything_else</th>\n",
              "      <th>follow_up_chws_complete_later_complete</th>\n",
              "    </tr>\n",
              "  </thead>\n",
              "  <tbody>\n",
              "    <tr>\n",
              "      <th>0</th>\n",
              "      <td>2</td>\n",
              "      <td>round_1_arm_1</td>\n",
              "      <td>0.0</td>\n",
              "      <td>1.0</td>\n",
              "      <td>3.0</td>\n",
              "      <td>NaN</td>\n",
              "      <td>2021-04-12</td>\n",
              "      <td>2021-04-12</td>\n",
              "      <td>2104.0</td>\n",
              "      <td>1.0</td>\n",
              "      <td>...</td>\n",
              "      <td>0.0</td>\n",
              "      <td>0.0</td>\n",
              "      <td>0.0</td>\n",
              "      <td>0.0</td>\n",
              "      <td>3.0</td>\n",
              "      <td>1.0</td>\n",
              "      <td>2021-05-25</td>\n",
              "      <td>NaN</td>\n",
              "      <td>NaN</td>\n",
              "      <td>2</td>\n",
              "    </tr>\n",
              "    <tr>\n",
              "      <th>1</th>\n",
              "      <td>2</td>\n",
              "      <td>round_2_arm_1</td>\n",
              "      <td>0.0</td>\n",
              "      <td>1.0</td>\n",
              "      <td>3.0</td>\n",
              "      <td>NaN</td>\n",
              "      <td>2021-05-24</td>\n",
              "      <td>2021-05-26</td>\n",
              "      <td>2105.0</td>\n",
              "      <td>1.0</td>\n",
              "      <td>...</td>\n",
              "      <td>NaN</td>\n",
              "      <td>NaN</td>\n",
              "      <td>NaN</td>\n",
              "      <td>NaN</td>\n",
              "      <td>NaN</td>\n",
              "      <td>1.0</td>\n",
              "      <td>NaT</td>\n",
              "      <td>NaN</td>\n",
              "      <td>NaN</td>\n",
              "      <td>2</td>\n",
              "    </tr>\n",
              "    <tr>\n",
              "      <th>2</th>\n",
              "      <td>4</td>\n",
              "      <td>round_1_arm_1</td>\n",
              "      <td>1.0</td>\n",
              "      <td>1.0</td>\n",
              "      <td>2.0</td>\n",
              "      <td>NaN</td>\n",
              "      <td>2021-04-12</td>\n",
              "      <td>2021-04-12</td>\n",
              "      <td>2104.0</td>\n",
              "      <td>1.0</td>\n",
              "      <td>...</td>\n",
              "      <td>NaN</td>\n",
              "      <td>NaN</td>\n",
              "      <td>NaN</td>\n",
              "      <td>NaN</td>\n",
              "      <td>NaN</td>\n",
              "      <td>1.0</td>\n",
              "      <td>2021-04-23</td>\n",
              "      <td>NaN</td>\n",
              "      <td>Patient not available</td>\n",
              "      <td>2</td>\n",
              "    </tr>\n",
              "    <tr>\n",
              "      <th>3</th>\n",
              "      <td>5</td>\n",
              "      <td>round_1_arm_1</td>\n",
              "      <td>1.0</td>\n",
              "      <td>1.0</td>\n",
              "      <td>2.0</td>\n",
              "      <td>NaN</td>\n",
              "      <td>2021-04-12</td>\n",
              "      <td>2021-04-12</td>\n",
              "      <td>2104.0</td>\n",
              "      <td>1.0</td>\n",
              "      <td>...</td>\n",
              "      <td>0.0</td>\n",
              "      <td>35.0</td>\n",
              "      <td>15.0</td>\n",
              "      <td>50.0</td>\n",
              "      <td>4.0</td>\n",
              "      <td>1.0</td>\n",
              "      <td>2021-05-14</td>\n",
              "      <td>NaN</td>\n",
              "      <td>NaN</td>\n",
              "      <td>2</td>\n",
              "    </tr>\n",
              "    <tr>\n",
              "      <th>4</th>\n",
              "      <td>5</td>\n",
              "      <td>round_2_arm_1</td>\n",
              "      <td>0.0</td>\n",
              "      <td>1.0</td>\n",
              "      <td>2.0</td>\n",
              "      <td>NaN</td>\n",
              "      <td>2021-09-21</td>\n",
              "      <td>2021-09-23</td>\n",
              "      <td>2109.0</td>\n",
              "      <td>1.0</td>\n",
              "      <td>...</td>\n",
              "      <td>0.0</td>\n",
              "      <td>0.0</td>\n",
              "      <td>15.0</td>\n",
              "      <td>15.0</td>\n",
              "      <td>3.0</td>\n",
              "      <td>1.0</td>\n",
              "      <td>2021-10-22</td>\n",
              "      <td>NaN</td>\n",
              "      <td>NaN</td>\n",
              "      <td>2</td>\n",
              "    </tr>\n",
              "  </tbody>\n",
              "</table>\n",
              "<p>5 rows × 315 columns</p>\n",
              "</div>\n",
              "      <button class=\"colab-df-convert\" onclick=\"convertToInteractive('df-99f26d0b-651e-4252-97b7-2f846cf14e7e')\"\n",
              "              title=\"Convert this dataframe to an interactive table.\"\n",
              "              style=\"display:none;\">\n",
              "        \n",
              "  <svg xmlns=\"http://www.w3.org/2000/svg\" height=\"24px\"viewBox=\"0 0 24 24\"\n",
              "       width=\"24px\">\n",
              "    <path d=\"M0 0h24v24H0V0z\" fill=\"none\"/>\n",
              "    <path d=\"M18.56 5.44l.94 2.06.94-2.06 2.06-.94-2.06-.94-.94-2.06-.94 2.06-2.06.94zm-11 1L8.5 8.5l.94-2.06 2.06-.94-2.06-.94L8.5 2.5l-.94 2.06-2.06.94zm10 10l.94 2.06.94-2.06 2.06-.94-2.06-.94-.94-2.06-.94 2.06-2.06.94z\"/><path d=\"M17.41 7.96l-1.37-1.37c-.4-.4-.92-.59-1.43-.59-.52 0-1.04.2-1.43.59L10.3 9.45l-7.72 7.72c-.78.78-.78 2.05 0 2.83L4 21.41c.39.39.9.59 1.41.59.51 0 1.02-.2 1.41-.59l7.78-7.78 2.81-2.81c.8-.78.8-2.07 0-2.86zM5.41 20L4 18.59l7.72-7.72 1.47 1.35L5.41 20z\"/>\n",
              "  </svg>\n",
              "      </button>\n",
              "      \n",
              "  <style>\n",
              "    .colab-df-container {\n",
              "      display:flex;\n",
              "      flex-wrap:wrap;\n",
              "      gap: 12px;\n",
              "    }\n",
              "\n",
              "    .colab-df-convert {\n",
              "      background-color: #E8F0FE;\n",
              "      border: none;\n",
              "      border-radius: 50%;\n",
              "      cursor: pointer;\n",
              "      display: none;\n",
              "      fill: #1967D2;\n",
              "      height: 32px;\n",
              "      padding: 0 0 0 0;\n",
              "      width: 32px;\n",
              "    }\n",
              "\n",
              "    .colab-df-convert:hover {\n",
              "      background-color: #E2EBFA;\n",
              "      box-shadow: 0px 1px 2px rgba(60, 64, 67, 0.3), 0px 1px 3px 1px rgba(60, 64, 67, 0.15);\n",
              "      fill: #174EA6;\n",
              "    }\n",
              "\n",
              "    [theme=dark] .colab-df-convert {\n",
              "      background-color: #3B4455;\n",
              "      fill: #D2E3FC;\n",
              "    }\n",
              "\n",
              "    [theme=dark] .colab-df-convert:hover {\n",
              "      background-color: #434B5C;\n",
              "      box-shadow: 0px 1px 3px 1px rgba(0, 0, 0, 0.15);\n",
              "      filter: drop-shadow(0px 1px 2px rgba(0, 0, 0, 0.3));\n",
              "      fill: #FFFFFF;\n",
              "    }\n",
              "  </style>\n",
              "\n",
              "      <script>\n",
              "        const buttonEl =\n",
              "          document.querySelector('#df-99f26d0b-651e-4252-97b7-2f846cf14e7e button.colab-df-convert');\n",
              "        buttonEl.style.display =\n",
              "          google.colab.kernel.accessAllowed ? 'block' : 'none';\n",
              "\n",
              "        async function convertToInteractive(key) {\n",
              "          const element = document.querySelector('#df-99f26d0b-651e-4252-97b7-2f846cf14e7e');\n",
              "          const dataTable =\n",
              "            await google.colab.kernel.invokeFunction('convertToInteractive',\n",
              "                                                     [key], {});\n",
              "          if (!dataTable) return;\n",
              "\n",
              "          const docLinkHtml = 'Like what you see? Visit the ' +\n",
              "            '<a target=\"_blank\" href=https://colab.research.google.com/notebooks/data_table.ipynb>data table notebook</a>'\n",
              "            + ' to learn more about interactive tables.';\n",
              "          element.innerHTML = '';\n",
              "          dataTable['output_type'] = 'display_data';\n",
              "          await google.colab.output.renderOutput(dataTable, element);\n",
              "          const docLink = document.createElement('div');\n",
              "          docLink.innerHTML = docLinkHtml;\n",
              "          element.appendChild(docLink);\n",
              "        }\n",
              "      </script>\n",
              "    </div>\n",
              "  </div>\n",
              "  "
            ]
          },
          "metadata": {},
          "execution_count": 3
        }
      ],
      "source": [
        "# download dataset from excel file\n",
        "data = pd.read_excel('CSP De-identified Data v3 2.14.22 Excel.xlsx')\n",
        "data.head()"
      ]
    },
    {
      "cell_type": "code",
      "source": [
        "data.info()"
      ],
      "metadata": {
        "colab": {
          "base_uri": "https://localhost:8080/"
        },
        "id": "t_wCLV1SVwVx",
        "outputId": "b830d01b-d339-4b19-f1ae-c76a0ef8c97d"
      },
      "id": "t_wCLV1SVwVx",
      "execution_count": null,
      "outputs": [
        {
          "output_type": "stream",
          "name": "stdout",
          "text": [
            "<class 'pandas.core.frame.DataFrame'>\n",
            "RangeIndex: 1634 entries, 0 to 1633\n",
            "Columns: 315 entries, record_id to follow_up_chws_complete_later_complete\n",
            "dtypes: datetime64[ns](14), float64(170), int64(52), object(79)\n",
            "memory usage: 3.9+ MB\n"
          ]
        }
      ]
    },
    {
      "cell_type": "markdown",
      "source": [
        "There are 1,634 records in the study with 315 features. A patient can have more than one record based on redcap_event_name. "
      ],
      "metadata": {
        "id": "SIjKQ9liV3xS"
      },
      "id": "SIjKQ9liV3xS"
    },
    {
      "cell_type": "code",
      "source": [
        "# how many unique patients are there?\n",
        "uniquePatients = data['record_id'].nunique()\n",
        "uniquePatients"
      ],
      "metadata": {
        "colab": {
          "base_uri": "https://localhost:8080/"
        },
        "id": "hhvAWywCkN3s",
        "outputId": "e6cc4a5b-8f26-4638-b554-6c733517e6a4"
      },
      "id": "hhvAWywCkN3s",
      "execution_count": null,
      "outputs": [
        {
          "output_type": "execute_result",
          "data": {
            "text/plain": [
              "1381"
            ]
          },
          "metadata": {},
          "execution_count": 5
        }
      ]
    },
    {
      "cell_type": "markdown",
      "source": [
        "There are 1,381 patients in the study. "
      ],
      "metadata": {
        "id": "PvQKre4qkoM6"
      },
      "id": "PvQKre4qkoM6"
    },
    {
      "cell_type": "code",
      "source": [
        "# group features into different sections\n",
        "tracking = data[['record_id', 'new_patient','type_id', 'chw_name', 'inperson_connection',\t'sw_date',\t'referral_date', \t'referral_month', 'referral_source','campus',\t'referral_notes', 'tracking_data_complete']].copy()\n",
        "demographics = data[['record_id','type_sw_referral',\t'other_sw_referral',\t'latino',\t'race___1',\t'race___2',\t'race___3', 'race___4',\t'race___5',\t'race___8',\t'race___6',\t'race___7',\t'language',\t'other_language',\t'sex_gender',\t'age',\t'unhoused',\t'health_insurance',\t'hypertension',\t'asthma',\t'diabetes',\t'diagnoses_other',\t'demographics_and_contact_information_complete']].copy()\n",
        "contact = data[['record_id','attempt_contact1', 'date_contact1', 'time_contact1', 'type_contact1','outcome_contact1','otheroutcome_contact1',\t'length_contact1',\t'midas_contact1',\t'again_contact1','notes_contact1',\t'attempt_contact2',\t'date_contact2',\t'time_contact2',\t'type_contact2', 'outcome_contact2',\t'otheroutcome_contact2',\t'length_contact2',\t'midas_contact2',\t'again_contact2',\n",
        "                'notes_contact2',\t'attempt_contact3',\t'date_contact3',\t'time_contact3',\t'type_contact3', 'outcome_contact3',\t'otheroutcome_contact3',\t'length_contact3',\t'midas_contact3',\t'again_contact3','notes_contact3',\t'attempt_contact4',\t'date_contact4',\t'time_contact4',\t'type_contact4', 'outcome_contact4',\t'otheroutcome_contact4',\t'length_contact4',\t'midas_contact4',\t\n",
        "                'again_contact4', 'notes_contact4',\t'attempt_contact5',\t'date_contact5',\t'time_contact5',\t'type_contact5', 'outcome_contact5',\t'otheroutcome_contact5',\t'length_contact5',\t'midas_contact5',\t'again_contact5',\t'notes_contact5',\t'attempt_contact6', 'date_contact6',\t'time_contact6',\t'type_contact6',\t'outcome_contact6',\t'otheroutcome_contact6',\t'length_contact6',\n",
        "                'midas_contact6',\t'again_contact6',\t'notes_contact6',\t'attempt_contact7',\t'date_contact7',\t'time_contact7',\t'type_contact7', 'outcome_contact7',\t'otheroutcome_contact7',\t'length_contact7',\t'midas_contact7',\t'again_contact7', 'notes_contact7',\t'attempt_contact8',\t'date_contact8',\t'time_contact8',\t'type_contact8', 'outcome_contact8',\t'otheroutcome_contact8',\t\n",
        "                'length_contact8',\t'midas_contact8',\t'again_contact8',\t'notes_contact8', 'attempt_contact9',\t'date_contact9',\t'time_contact9',\t'type_contact9',\t'outcome_contact9', 'otheroutcome_contact9',\t'length_contact9',\t'midas_contact9',\t'again_contact9',\t'notes_contact9', 'attempt_contact10',\t'date_contact10',\t'time_contact10',\t'type_contact10',\t'outcome_contact10',\n",
        "                'otheroutcome_contact10',\t'length_contact10',\t'midas_contact10',\t'again_contact10',\t'notes_contact10',\t'sum_contact_attempts_calc', 'additional_contact_notes',\t'contact_log_complete']].copy()\n",
        "initial_questions = data[['record_id','demographic_added',\t'contactmade_yesno',\t'poc_date',\t'initial_questions_complete']].copy()\n",
        "social_determ = data[['record_id','sdoh_pcp',\t'resources_pcp',\t'resources_pcp_notes',\t'no_resources_pcp',\t'no_resources_pcp_other',\t'sdoh_ins', 'resources_ins',\t'resources_ins_notes',\t'no_resources_ins',\t'no_resources_ins_other',\t'sdoh_housing',\t'sdoh_housing2', 'resources_housing',\t'resources_housing_notes',\t'no_resources_housing',\t'no_resources_housing_other',\t'sdoh_food1',\t'sdoh_food2months', \n",
        "                      'sdoh_food3',\t'sdoh_food4',\t'sdoh_food5', 'sdoh_food6',\t'sdoh_food7',\t'resources_food', 'resources_food_notes', 'no_resources_food',\t'no_resources_food_other',\t'sdoh_util',\t'resources_util', 'resources_util_notes',\t'no_resources_util',\t'no_resources_util_other',\t'sdoh_trans',\t'resources_trans', 'resources_trans_notes',\t'new_transport_service',\t'no_resources_trans',\t\n",
        "                      'no_resources_trans_other',\t'sdoh_employ', 'resources_employ',\t'resources_employ_notes',\t'no_resources_employ',\t'no_resources_employ_other',\t'sdoh_dv',\t'resources_dv', 'resources_dv_notes',\t'no_resources_dv',\t'no_resources_dv_other',\t'hiv_test_interest',\t'resources_hiv',\t'resources_hiv_notes', 'no_resources_hiv',\t'no_resources_hiv_other',\t'covid_vax_interest',\t\n",
        "                      'covid_vax_signup',\t'resources_covid',\t'resources_covid_notes', 'no_resources_covid',\t'no_resources_covid_other',\t'sdoh_diabetes',\t'resources_diabetes',\t'resources_diabetes_notes',\t'no_resources_diabetes', 'no_resources_diab_other',\t'sdoh_asthma1',\t'sdoh_asthma2',\t'resources_asthma',\t'resources_asthma_notes',\t'no_resources_asthma',\t'no_resources_asthma_other', 'sdoh_alc',\n",
        "                      'resources_alc',\t'resources_alc_notes',\t'no_resources_alc',\t'no_resources_alc_other',\t'sdoh_substance',\t'resources_substance',\t'resources_substance_notes', 'no_resources_substance',\t'no_resources_subs_other',\t'sdoh_emotional',\t'resources_emotional',\t'resources_emotional_notes',\t'no_resources_emotional',\t'no_resources_emo_other', 'bill_fu_rx_healthed_needs___1',\t\n",
        "                      'bill_fu_rx_healthed_needs___2',\t'bill_fu_rx_healthed_needs___3',\t'bill_fu_rx_healthed_needs___4',\t'bill_fu_rx_healthed_needs___5',\t'resources_bill',\t'resources_bill_descr', 'no_resources_bill',\t'no_resources_bill_explain',\t'resources_fu',\t'resources_fu_descr',\t'no_resources_fu',\t'no_resources_fu_explain',\t'resources_rx','resources_rx_descr',\t'no_resources_rx',\t\n",
        "                      'no_resources_rx_explain',\t'resources_healthed',\t'resources_healthed_descr',\t'no_resources_healthed',\t'no_resources_healthed_expl',\t'sdoh_other', 'sdoh_other_notes',\t'resources_other',\t'resources_other_notes',\t'no_resources_other',\t'no_resources_other_other',\t'sdoh_notes',\t'nowpow', 'social_determinants_of_health_questionnaire_complete',\t'sdoh_yesno', 'sdoh_why_partial',\t\n",
        "                      'why_no_sdoh',\t'other_no_sdoh',\t'any_unmet_needs',\t'referrals_yesno',\t'internal_referral', 'internal_referral_program___1',\t'internal_referral_program___10',\t'internal_referral_program___2',\t'internal_referral_program___3',\t'internal_referral_program___4',\t'internal_referral_program___6',\t'internal_referral_program___7', 'internal_referral_program___8',\t'internal_referral_program___9',\n",
        "                      'internal_referral_program___11',\t'internal_referral_program___5',\t'internal_referral_other',\t'narcan',\t'complaints', 'midas_complaint',\t'describe_complaint',\t'final_items_complete']].copy()\n",
        "follow_up = data[['record_id','month_followup',\t'followup_date',\t'actually_used_general',\t'actually_used_referrals___1',\t'actually_used_referrals___2',\t'actually_used_referrals___3',\t'actually_used_referrals___4',\t'actually_used_referrals___5',\t'actually_used_referrals___6',\t'actually_used_referrals___7', 'actually_used_referrals___8',\t'actually_used_referrals___9',\t'actually_used_referrals___10',\t\n",
        "                  'actually_used_referrals___11',\t'actually_used_referrals___12',\t'actually_used_referrals___13',\t'actually_used_referrals___14',\t'actually_used_referrals___15',\t'actually_used_referrals___16',\t'actually_used_referrals___17', 'actually_used_referrals___18',\t'actually_used_referrals___19',\t'actually_used_referrals___20',\t'used_services_other',\t'day_readmit',\t'time_spent_1',\t'time_spent_2',\t\n",
        "                  'total_time_spent',\t'contact_attempts',\t'case_closed', 'closed_date',\t'declined',\t'anything_else',\t'follow_up_chws_complete_later_complete']].copy()"
      ],
      "metadata": {
        "id": "kvA0WIM4hKpv"
      },
      "id": "kvA0WIM4hKpv",
      "execution_count": null,
      "outputs": []
    },
    {
      "cell_type": "markdown",
      "source": [
        "# Cleaning Data"
      ],
      "metadata": {
        "id": "VADhH6eRg5E7"
      },
      "id": "VADhH6eRg5E7"
    },
    {
      "cell_type": "markdown",
      "source": [
        "First, we need to combine variables so that there aren't as many that are thrown out."
      ],
      "metadata": {
        "id": "155LI0R9DfoC"
      },
      "id": "155LI0R9DfoC"
    },
    {
      "cell_type": "markdown",
      "source": [
        "### Tracking Data"
      ],
      "metadata": {
        "id": "1I8pFPr7hEf6"
      },
      "id": "1I8pFPr7hEf6"
    },
    {
      "cell_type": "code",
      "source": [
        "tracking.info()"
      ],
      "metadata": {
        "colab": {
          "base_uri": "https://localhost:8080/"
        },
        "id": "kk5dUlxfib1Y",
        "outputId": "986f52d6-b86d-4d83-80b6-51bf0e98eb38"
      },
      "id": "kk5dUlxfib1Y",
      "execution_count": null,
      "outputs": [
        {
          "output_type": "stream",
          "name": "stdout",
          "text": [
            "<class 'pandas.core.frame.DataFrame'>\n",
            "RangeIndex: 1634 entries, 0 to 1633\n",
            "Data columns (total 12 columns):\n",
            " #   Column                  Non-Null Count  Dtype         \n",
            "---  ------                  --------------  -----         \n",
            " 0   record_id               1634 non-null   int64         \n",
            " 1   new_patient             1628 non-null   float64       \n",
            " 2   type_id                 1627 non-null   float64       \n",
            " 3   chw_name                1629 non-null   float64       \n",
            " 4   inperson_connection     144 non-null    float64       \n",
            " 5   sw_date                 1023 non-null   datetime64[ns]\n",
            " 6   referral_date           1629 non-null   datetime64[ns]\n",
            " 7   referral_month          1629 non-null   float64       \n",
            " 8   referral_source         1633 non-null   float64       \n",
            " 9   campus                  901 non-null    object        \n",
            " 10  referral_notes          6 non-null      object        \n",
            " 11  tracking_data_complete  1634 non-null   int64         \n",
            "dtypes: datetime64[ns](2), float64(6), int64(2), object(2)\n",
            "memory usage: 153.3+ KB\n"
          ]
        }
      ]
    },
    {
      "cell_type": "markdown",
      "source": [
        "Next, analyze unique values to see if any of them are useful"
      ],
      "metadata": {
        "id": "O5Pf-a8nn_3R"
      },
      "id": "O5Pf-a8nn_3R"
    },
    {
      "cell_type": "markdown",
      "source": [
        "new_patient may be useful - program more successful if they are new?\n",
        "more than one record means that  social worker believes that the patient will benefit and keeps referring them into the program\n"
      ],
      "metadata": {
        "id": "vfxoXgRboSPL"
      },
      "id": "vfxoXgRboSPL"
    },
    {
      "cell_type": "code",
      "source": [
        "newPatientMax = tracking.groupby(['record_id'])['new_patient'].max()\n",
        "newPatientMax = pd.DataFrame(newPatientMax)\n",
        "\n",
        "newPatientMax.isnull().sum()"
      ],
      "metadata": {
        "colab": {
          "base_uri": "https://localhost:8080/"
        },
        "id": "08A2LKZMoaUn",
        "outputId": "fded28e6-6cd8-446c-eee9-2d0bcfc15c12"
      },
      "id": "08A2LKZMoaUn",
      "execution_count": null,
      "outputs": [
        {
          "output_type": "execute_result",
          "data": {
            "text/plain": [
              "new_patient    3\n",
              "dtype: int64"
            ]
          },
          "metadata": {},
          "execution_count": 8
        }
      ]
    },
    {
      "cell_type": "markdown",
      "source": [
        "There are only 3 missing values."
      ],
      "metadata": {
        "id": "3LzX2upatPcx"
      },
      "id": "3LzX2upatPcx"
    },
    {
      "cell_type": "code",
      "source": [
        "newPatientMaxN=newPatientMax.groupby(by = 'new_patient').size()\n",
        "print(newPatientMaxN)\n",
        "print(\" \")\n",
        "newPatientMaxN / uniquePatients"
      ],
      "metadata": {
        "colab": {
          "base_uri": "https://localhost:8080/"
        },
        "id": "D9TcEcb5tOTW",
        "outputId": "50e58eae-1228-433b-f4f5-dc8781ec0783"
      },
      "id": "D9TcEcb5tOTW",
      "execution_count": null,
      "outputs": [
        {
          "output_type": "stream",
          "name": "stdout",
          "text": [
            "new_patient\n",
            "0.0       4\n",
            "1.0    1374\n",
            "dtype: int64\n",
            " \n"
          ]
        },
        {
          "output_type": "execute_result",
          "data": {
            "text/plain": [
              "new_patient\n",
              "0.0    0.002896\n",
              "1.0    0.994931\n",
              "dtype: float64"
            ]
          },
          "metadata": {},
          "execution_count": 9
        }
      ]
    },
    {
      "cell_type": "markdown",
      "source": [
        "Only 4 out of 1,381 patients (0.003%) have a max variable of 0, which means that a small percentage were not new and didn't have more than one record. Let's see how many times a patient is part of the program."
      ],
      "metadata": {
        "id": "Y2fdMUf9tZxd"
      },
      "id": "Y2fdMUf9tZxd"
    },
    {
      "cell_type": "code",
      "source": [
        "newPatientCount = tracking.groupby(['record_id'])['new_patient'].count()\n",
        "newPatientCount = pd.DataFrame(newPatientCount)\n",
        "\n",
        "newPatientCountN = newPatientCount.groupby(by = 'new_patient').size()\n",
        "\n",
        "print(newPatientCountN)\n",
        "print (\"\")\n",
        "newPatientCountN / uniquePatients"
      ],
      "metadata": {
        "colab": {
          "base_uri": "https://localhost:8080/"
        },
        "id": "HRVa-q6MGMTI",
        "outputId": "d1da9e21-215a-4d9d-e05e-fba29dd9ed4b"
      },
      "id": "HRVa-q6MGMTI",
      "execution_count": null,
      "outputs": [
        {
          "output_type": "stream",
          "name": "stdout",
          "text": [
            "new_patient\n",
            "0       3\n",
            "1    1199\n",
            "2     129\n",
            "3      38\n",
            "4       5\n",
            "5       5\n",
            "6       2\n",
            "dtype: int64\n",
            "\n"
          ]
        },
        {
          "output_type": "execute_result",
          "data": {
            "text/plain": [
              "new_patient\n",
              "0    0.002172\n",
              "1    0.868211\n",
              "2    0.093411\n",
              "3    0.027516\n",
              "4    0.003621\n",
              "5    0.003621\n",
              "6    0.001448\n",
              "dtype: float64"
            ]
          },
          "metadata": {},
          "execution_count": 10
        }
      ]
    },
    {
      "cell_type": "markdown",
      "source": [
        "3 had zero which are the missing values. We know 4 had a max variable of 0 so they would be counted in the 1 group. Remaining 1,195 (87%) had one record, 9% had 2 records, 3% had 3 records, etc..\n",
        "\n",
        "**to do: create new metric that counts how many**"
      ],
      "metadata": {
        "id": "HZBA-mSzIyEQ"
      },
      "id": "HZBA-mSzIyEQ"
    },
    {
      "cell_type": "markdown",
      "source": [
        "redcap_event_name: reflective of count of records per patient so considered duplicative and can remove\n",
        "\n",
        "type_id: seems informational to the id number that wasn't included in the de-identified data and can remove\n",
        "\n",
        "**to do: look at readmission rate by chw_name to see if significant difference in order to justify removing it**"
      ],
      "metadata": {
        "id": "A7E9iMdsuI0c"
      },
      "id": "A7E9iMdsuI0c"
    },
    {
      "cell_type": "code",
      "source": [
        "data.inperson_connection.unique()"
      ],
      "metadata": {
        "colab": {
          "base_uri": "https://localhost:8080/"
        },
        "id": "u2wmYcuhPg72",
        "outputId": "caff2fa9-e984-4e8b-b56e-08f090838942"
      },
      "id": "u2wmYcuhPg72",
      "execution_count": null,
      "outputs": [
        {
          "output_type": "execute_result",
          "data": {
            "text/plain": [
              "array([nan,  0.])"
            ]
          },
          "metadata": {},
          "execution_count": 11
        }
      ]
    },
    {
      "cell_type": "markdown",
      "source": [
        "in person connection is either no or NULL so we can remove"
      ],
      "metadata": {
        "id": "RyQA2uJTP7Jp"
      },
      "id": "RyQA2uJTP7Jp"
    },
    {
      "cell_type": "markdown",
      "source": [
        "There are a few date fields sw_date, referral_date, referral_month. \n",
        "\n",
        "Referall_month is redundant and can be removed.\n",
        "Referral date is used for duration (case closed - referral date) so include for new duration metric.\n",
        "\n",
        "sw_date is similiar to referall date -- referall received versus when it was assigned (referral date) - remove from dataset"
      ],
      "metadata": {
        "id": "NhsVcMyCQNXn"
      },
      "id": "NhsVcMyCQNXn"
    },
    {
      "cell_type": "code",
      "source": [
        "data.referral_source.unique()"
      ],
      "metadata": {
        "colab": {
          "base_uri": "https://localhost:8080/"
        },
        "id": "T1xlNsDWQuEg",
        "outputId": "795897d6-34ac-46ef-c3a8-f918df74d023"
      },
      "id": "T1xlNsDWQuEg",
      "execution_count": null,
      "outputs": [
        {
          "output_type": "execute_result",
          "data": {
            "text/plain": [
              "array([ 1., nan,  3.])"
            ]
          },
          "metadata": {},
          "execution_count": 12
        }
      ]
    },
    {
      "cell_type": "markdown",
      "source": [
        "Only options are 1- social work or 3- behavioral health."
      ],
      "metadata": {
        "id": "8sUgZ4vGQ8Eq"
      },
      "id": "8sUgZ4vGQ8Eq"
    },
    {
      "cell_type": "code",
      "source": [
        "referralSourceCount = tracking.groupby(['record_id'])['referral_source'].max()\n",
        "referralSourceCount = pd.DataFrame(referralSourceCount)\n",
        "\n",
        "referralSourceCountN = referralSourceCount.groupby(by = 'referral_source').size()\n",
        "\n",
        "print(referralSourceCountN)\n",
        "print (\"\")\n",
        "referralSourceCountN / uniquePatients"
      ],
      "metadata": {
        "colab": {
          "base_uri": "https://localhost:8080/"
        },
        "id": "zsVBbeF3RCU-",
        "outputId": "5288ca51-1648-4b58-ad91-97d2a5ac7e8b"
      },
      "id": "zsVBbeF3RCU-",
      "execution_count": null,
      "outputs": [
        {
          "output_type": "stream",
          "name": "stdout",
          "text": [
            "referral_source\n",
            "1.0    1378\n",
            "3.0       2\n",
            "dtype: int64\n",
            "\n"
          ]
        },
        {
          "output_type": "execute_result",
          "data": {
            "text/plain": [
              "referral_source\n",
              "1.0    0.997828\n",
              "3.0    0.001448\n",
              "dtype: float64"
            ]
          },
          "metadata": {},
          "execution_count": 13
        }
      ]
    },
    {
      "cell_type": "markdown",
      "source": [
        "Only 2 came from behavior health and the rest came from social work. Remove referral source."
      ],
      "metadata": {
        "id": "wh7Bith-SA_2"
      },
      "id": "wh7Bith-SA_2"
    },
    {
      "cell_type": "code",
      "source": [
        "print(data.campus.unique())\n",
        "\n",
        "# fix north to be combined together\n",
        "north = data['campus'] == 'north'\n",
        "data.loc[north,'campus'] = 'North'\n",
        "\n",
        "# also need to fix tracking data\n",
        "north = tracking['campus'] == 'north'\n",
        "tracking.loc[north,'campus'] = 'North'\n",
        "\n",
        "print(tracking.campus.unique())\n",
        "\n",
        "campusCount = tracking.groupby(['campus'])['record_id'].nunique()\n",
        "campusCount = pd.DataFrame(campusCount)\n",
        "\n",
        "campusCountN = campusCount.groupby(by = 'campus').sum()\n",
        "\n",
        "print(campusCountN)\n",
        "print (\"\")\n",
        "campusCountN / uniquePatients"
      ],
      "metadata": {
        "colab": {
          "base_uri": "https://localhost:8080/",
          "height": 314
        },
        "id": "jmyaGYbHSRok",
        "outputId": "3ebf7e2e-bfb1-4b17-808f-061c093bdfff"
      },
      "id": "jmyaGYbHSRok",
      "execution_count": null,
      "outputs": [
        {
          "output_type": "stream",
          "name": "stdout",
          "text": [
            "['South' nan 'North' 'Sinai' 'north']\n",
            "['South' nan 'North' 'Sinai']\n",
            "        record_id\n",
            "campus           \n",
            "North         269\n",
            "Sinai           2\n",
            "South         543\n",
            "\n"
          ]
        },
        {
          "output_type": "execute_result",
          "data": {
            "text/plain": [
              "        record_id\n",
              "campus           \n",
              "North    0.194786\n",
              "Sinai    0.001448\n",
              "South    0.393193"
            ],
            "text/html": [
              "\n",
              "  <div id=\"df-c83ac583-fe8f-41bc-b71c-ca6329650127\">\n",
              "    <div class=\"colab-df-container\">\n",
              "      <div>\n",
              "<style scoped>\n",
              "    .dataframe tbody tr th:only-of-type {\n",
              "        vertical-align: middle;\n",
              "    }\n",
              "\n",
              "    .dataframe tbody tr th {\n",
              "        vertical-align: top;\n",
              "    }\n",
              "\n",
              "    .dataframe thead th {\n",
              "        text-align: right;\n",
              "    }\n",
              "</style>\n",
              "<table border=\"1\" class=\"dataframe\">\n",
              "  <thead>\n",
              "    <tr style=\"text-align: right;\">\n",
              "      <th></th>\n",
              "      <th>record_id</th>\n",
              "    </tr>\n",
              "    <tr>\n",
              "      <th>campus</th>\n",
              "      <th></th>\n",
              "    </tr>\n",
              "  </thead>\n",
              "  <tbody>\n",
              "    <tr>\n",
              "      <th>North</th>\n",
              "      <td>0.194786</td>\n",
              "    </tr>\n",
              "    <tr>\n",
              "      <th>Sinai</th>\n",
              "      <td>0.001448</td>\n",
              "    </tr>\n",
              "    <tr>\n",
              "      <th>South</th>\n",
              "      <td>0.393193</td>\n",
              "    </tr>\n",
              "  </tbody>\n",
              "</table>\n",
              "</div>\n",
              "      <button class=\"colab-df-convert\" onclick=\"convertToInteractive('df-c83ac583-fe8f-41bc-b71c-ca6329650127')\"\n",
              "              title=\"Convert this dataframe to an interactive table.\"\n",
              "              style=\"display:none;\">\n",
              "        \n",
              "  <svg xmlns=\"http://www.w3.org/2000/svg\" height=\"24px\"viewBox=\"0 0 24 24\"\n",
              "       width=\"24px\">\n",
              "    <path d=\"M0 0h24v24H0V0z\" fill=\"none\"/>\n",
              "    <path d=\"M18.56 5.44l.94 2.06.94-2.06 2.06-.94-2.06-.94-.94-2.06-.94 2.06-2.06.94zm-11 1L8.5 8.5l.94-2.06 2.06-.94-2.06-.94L8.5 2.5l-.94 2.06-2.06.94zm10 10l.94 2.06.94-2.06 2.06-.94-2.06-.94-.94-2.06-.94 2.06-2.06.94z\"/><path d=\"M17.41 7.96l-1.37-1.37c-.4-.4-.92-.59-1.43-.59-.52 0-1.04.2-1.43.59L10.3 9.45l-7.72 7.72c-.78.78-.78 2.05 0 2.83L4 21.41c.39.39.9.59 1.41.59.51 0 1.02-.2 1.41-.59l7.78-7.78 2.81-2.81c.8-.78.8-2.07 0-2.86zM5.41 20L4 18.59l7.72-7.72 1.47 1.35L5.41 20z\"/>\n",
              "  </svg>\n",
              "      </button>\n",
              "      \n",
              "  <style>\n",
              "    .colab-df-container {\n",
              "      display:flex;\n",
              "      flex-wrap:wrap;\n",
              "      gap: 12px;\n",
              "    }\n",
              "\n",
              "    .colab-df-convert {\n",
              "      background-color: #E8F0FE;\n",
              "      border: none;\n",
              "      border-radius: 50%;\n",
              "      cursor: pointer;\n",
              "      display: none;\n",
              "      fill: #1967D2;\n",
              "      height: 32px;\n",
              "      padding: 0 0 0 0;\n",
              "      width: 32px;\n",
              "    }\n",
              "\n",
              "    .colab-df-convert:hover {\n",
              "      background-color: #E2EBFA;\n",
              "      box-shadow: 0px 1px 2px rgba(60, 64, 67, 0.3), 0px 1px 3px 1px rgba(60, 64, 67, 0.15);\n",
              "      fill: #174EA6;\n",
              "    }\n",
              "\n",
              "    [theme=dark] .colab-df-convert {\n",
              "      background-color: #3B4455;\n",
              "      fill: #D2E3FC;\n",
              "    }\n",
              "\n",
              "    [theme=dark] .colab-df-convert:hover {\n",
              "      background-color: #434B5C;\n",
              "      box-shadow: 0px 1px 3px 1px rgba(0, 0, 0, 0.15);\n",
              "      filter: drop-shadow(0px 1px 2px rgba(0, 0, 0, 0.3));\n",
              "      fill: #FFFFFF;\n",
              "    }\n",
              "  </style>\n",
              "\n",
              "      <script>\n",
              "        const buttonEl =\n",
              "          document.querySelector('#df-c83ac583-fe8f-41bc-b71c-ca6329650127 button.colab-df-convert');\n",
              "        buttonEl.style.display =\n",
              "          google.colab.kernel.accessAllowed ? 'block' : 'none';\n",
              "\n",
              "        async function convertToInteractive(key) {\n",
              "          const element = document.querySelector('#df-c83ac583-fe8f-41bc-b71c-ca6329650127');\n",
              "          const dataTable =\n",
              "            await google.colab.kernel.invokeFunction('convertToInteractive',\n",
              "                                                     [key], {});\n",
              "          if (!dataTable) return;\n",
              "\n",
              "          const docLinkHtml = 'Like what you see? Visit the ' +\n",
              "            '<a target=\"_blank\" href=https://colab.research.google.com/notebooks/data_table.ipynb>data table notebook</a>'\n",
              "            + ' to learn more about interactive tables.';\n",
              "          element.innerHTML = '';\n",
              "          dataTable['output_type'] = 'display_data';\n",
              "          await google.colab.output.renderOutput(dataTable, element);\n",
              "          const docLink = document.createElement('div');\n",
              "          docLink.innerHTML = docLinkHtml;\n",
              "          element.appendChild(docLink);\n",
              "        }\n",
              "      </script>\n",
              "    </div>\n",
              "  </div>\n",
              "  "
            ]
          },
          "metadata": {},
          "execution_count": 14
        }
      ]
    },
    {
      "cell_type": "markdown",
      "source": [
        "39% south, 19% north remaing 42% is mostly NULL\n",
        "remove for now but we should have this information -- something that can be included for next time "
      ],
      "metadata": {
        "id": "NsvOKbDRY7a4"
      },
      "id": "NsvOKbDRY7a4"
    },
    {
      "cell_type": "code",
      "source": [
        "print(data.referral_notes.unique())"
      ],
      "metadata": {
        "colab": {
          "base_uri": "https://localhost:8080/"
        },
        "id": "r6fDC1dcZtWJ",
        "outputId": "52e2e60c-65c3-47f5-9409-0dfd5430f8ae"
      },
      "id": "r6fDC1dcZtWJ",
      "execution_count": null,
      "outputs": [
        {
          "output_type": "stream",
          "name": "stdout",
          "text": [
            "[nan\n",
            " '15.\\tIf a patient has been referred more than 3x and has been unresponsive:  a.\\tRefer back to social work team first  b.\\tAll subsequent follow-ups should consist of only one call  c.\\tFor example, patient has been referred 5x and CHW has not been able to reach him. The next time patient is referred CHW will call one time for follow-up and close the case if patient does not answer  d.\\tAlways be sure to leave your name and number for the patient call back.   '\n",
            " 'PT left AMA  DOB was entered incorrectly in 1st round  '\n",
            " 'XXXXX #####    PT left AMA' 'newly diagnosed - diabetes'\n",
            " 'XXXXX is contact on file #####' 'XXXXX #####']\n"
          ]
        }
      ]
    },
    {
      "cell_type": "markdown",
      "source": [
        "Only 4 notes under referral notes and they don't look helpful. Remove referall notes from data.\n",
        "\n",
        "remove tracking_data_complete - informational"
      ],
      "metadata": {
        "id": "lr56q6ZSZyCE"
      },
      "id": "lr56q6ZSZyCE"
    },
    {
      "cell_type": "markdown",
      "source": [
        "####**Tracking Metrics Summary**\n",
        "\n",
        "Metrics to Keep at Patient Level:\n",
        "*   Count of Patient Ids\n",
        "*   referral_date to use for duration\n",
        "\n",
        "Metrics to Remove:\n",
        "\n",
        "*   new_patient\n",
        "*   redcap_event_name\n",
        "*   type_id\n",
        "*   inperson_connection\n",
        "*   sw_date\n",
        "*   referral_month\n",
        "*   referral_source\n",
        "*   referral_notes\n",
        "*   tracking_data_complete\n",
        "*   campus\n",
        "*   chw_name\n",
        "\n",
        "\n",
        "\n",
        "\n",
        "\n",
        "\n",
        "\n",
        "\n",
        "\n",
        "\n",
        "\n",
        "\n",
        "\n"
      ],
      "metadata": {
        "id": "gQ2E9117aE9q"
      },
      "id": "gQ2E9117aE9q"
    },
    {
      "cell_type": "markdown",
      "source": [
        "## Demographics and Contact Information"
      ],
      "metadata": {
        "id": "MBnJhGKmbrln"
      },
      "id": "MBnJhGKmbrln"
    },
    {
      "cell_type": "code",
      "source": [
        "newReferralMax = demographics.groupby(['record_id'])['type_sw_referral'].max()\n",
        "newReferralMax = pd.DataFrame(newReferralMax)\n",
        "\n",
        "newReferralMax.isnull().sum()"
      ],
      "metadata": {
        "colab": {
          "base_uri": "https://localhost:8080/"
        },
        "id": "SNj7Cav6OAE3",
        "outputId": "b03e07f1-c6f1-4acc-a36e-e7aed32a29ed"
      },
      "id": "SNj7Cav6OAE3",
      "execution_count": null,
      "outputs": [
        {
          "output_type": "execute_result",
          "data": {
            "text/plain": [
              "type_sw_referral    18\n",
              "dtype: int64"
            ]
          },
          "metadata": {},
          "execution_count": 16
        }
      ]
    },
    {
      "cell_type": "code",
      "source": [
        "newReferralMaxN=newReferralMax.groupby(by = 'type_sw_referral').size()\n",
        "print(newReferralMaxN)\n",
        "print(\" \")\n",
        "newReferralMaxN / uniquePatients"
      ],
      "metadata": {
        "colab": {
          "base_uri": "https://localhost:8080/"
        },
        "id": "XCdTlJMxQoJ_",
        "outputId": "1cd410d2-910c-4d61-cffa-80b7d9d09c6a"
      },
      "id": "XCdTlJMxQoJ_",
      "execution_count": null,
      "outputs": [
        {
          "output_type": "stream",
          "name": "stdout",
          "text": [
            "type_sw_referral\n",
            "1.0    117\n",
            "2.0    468\n",
            "3.0    736\n",
            "4.0     40\n",
            "5.0      2\n",
            "dtype: int64\n",
            " \n"
          ]
        },
        {
          "output_type": "execute_result",
          "data": {
            "text/plain": [
              "type_sw_referral\n",
              "1.0    0.084721\n",
              "2.0    0.338885\n",
              "3.0    0.532947\n",
              "4.0    0.028965\n",
              "5.0    0.001448\n",
              "dtype: float64"
            ]
          },
          "metadata": {},
          "execution_count": 17
        }
      ]
    },
    {
      "cell_type": "markdown",
      "source": [
        "Lumping repeatReturn into highRiskReadmit. Nulls into other."
      ],
      "metadata": {
        "id": "XdGc6J3eVObg"
      },
      "id": "XdGc6J3eVObg"
    },
    {
      "cell_type": "code",
      "source": [
        "covid = data['type_sw_referral'] == 1\n",
        "data.loc[covid,'type_sw_referral'] = 'covid'\n",
        "\n",
        "ed = data['type_sw_referral'] == 2\n",
        "data.loc[ed,'type_sw_referral'] = 'ed'\n",
        "\n",
        "highRisk = data['type_sw_referral'] == 3\n",
        "data.loc[highRisk,'type_sw_referral'] = 'highRiskReadmit'\n",
        "\n",
        "other = data['type_sw_referral'] == 4\n",
        "data.loc[other,'type_sw_referral'] = 'other'\n",
        "\n",
        "repeatReturn = data['type_sw_referral'] == 5\n",
        "data.loc[repeatReturn,'type_sw_referral'] = 'highRiskReadmit'\n"
      ],
      "metadata": {
        "id": "eif1f_Tkb_Ly"
      },
      "id": "eif1f_Tkb_Ly",
      "execution_count": null,
      "outputs": []
    },
    {
      "cell_type": "markdown",
      "source": [
        "other_sw_referral was not populated so remove"
      ],
      "metadata": {
        "id": "WwBInj4_YW8U"
      },
      "id": "WwBInj4_YW8U"
    },
    {
      "cell_type": "markdown",
      "source": [
        "race --> combine latino with race columns and create new race column\n",
        "\n",
        "**Original Values:**\n",
        "- 1 = Latino in latino column\n",
        "- 1 = Black or African American\n",
        "- 2 = American Indian or Alaskan Native\n",
        "- 3 = Native Hawaiian or Other Pacific Islander\n",
        "- 4 = White\n",
        "- 5 = Asian\n",
        "- 6 = Other\n",
        "- 7 = Refused\n",
        "- 8 = Middle Eastern or North African\n",
        "\n",
        "**New Values:**\n",
        "- 1 = Black or African American\n",
        "- 4 = White\n",
        "- 7 = Other\n",
        "- 9 = Latino\n",
        "\n",
        "what did latino yes put down as race?"
      ],
      "metadata": {
        "id": "WykaSevfYn6e"
      },
      "id": "WykaSevfYn6e"
    },
    {
      "cell_type": "code",
      "source": [
        "race_cols = ['latino', 'race___1','race___2','race___3','race___4','race___5','race___6','race___7','race___8']\n",
        "race_conditions = [data['race___1'] == 1,\n",
        "                   data['race___4'] == 1,\n",
        "                   data['latino'] == 1]\n",
        "\n",
        "data['race'] = np.select(race_conditions, [1,4,9], default=7)\n",
        "data[\"race\"].value_counts().plot(kind='bar')"
      ],
      "metadata": {
        "colab": {
          "base_uri": "https://localhost:8080/",
          "height": 279
        },
        "id": "guKPT9ahZS2c",
        "outputId": "737f8af3-909d-4e47-99f2-42e38037c0dd"
      },
      "id": "guKPT9ahZS2c",
      "execution_count": null,
      "outputs": [
        {
          "output_type": "execute_result",
          "data": {
            "text/plain": [
              "<matplotlib.axes._subplots.AxesSubplot at 0x7fd2459ac110>"
            ]
          },
          "metadata": {},
          "execution_count": 19
        },
        {
          "output_type": "display_data",
          "data": {
            "text/plain": [
              "<Figure size 432x288 with 1 Axes>"
            ],
            "image/png": "[encoded data removed]"
          },
          "metadata": {
            "needs_background": "light"
          }
        }
      ]
    },
    {
      "cell_type": "code",
      "source": [
        "raceMax = data.groupby(['record_id'])['race'].max()\n",
        "raceMax = pd.DataFrame(raceMax)\n",
        "\n",
        "raceMaxN=raceMax.groupby(by = 'race').size()\n",
        "print(raceMaxN)\n",
        "print(\" \")\n",
        "raceMaxN / uniquePatients"
      ],
      "metadata": {
        "colab": {
          "base_uri": "https://localhost:8080/"
        },
        "id": "ogtWc5bsb2Fo",
        "outputId": "4700189d-a71f-4bf2-aa84-de67cf162e44"
      },
      "id": "ogtWc5bsb2Fo",
      "execution_count": null,
      "outputs": [
        {
          "output_type": "stream",
          "name": "stdout",
          "text": [
            "race\n",
            "1    913\n",
            "4     54\n",
            "7    131\n",
            "9    283\n",
            "dtype: int64\n",
            " \n"
          ]
        },
        {
          "output_type": "execute_result",
          "data": {
            "text/plain": [
              "race\n",
              "1    0.661115\n",
              "4    0.039102\n",
              "7    0.094859\n",
              "9    0.204924\n",
              "dtype: float64"
            ]
          },
          "metadata": {},
          "execution_count": 20
        }
      ]
    },
    {
      "cell_type": "markdown",
      "source": [
        "keep new race feature"
      ],
      "metadata": {
        "id": "q-kUQfcKegcc"
      },
      "id": "q-kUQfcKegcc"
    },
    {
      "cell_type": "code",
      "source": [
        "languageMax = demographics.groupby(['record_id'])['language'].max()\n",
        "languageMax = pd.DataFrame(languageMax)\n",
        "\n",
        "languageMaxN=languageMax.groupby(by = 'language').size()\n",
        "print(languageMaxN)\n",
        "print(\" \")\n",
        "languageMaxN / uniquePatients"
      ],
      "metadata": {
        "colab": {
          "base_uri": "https://localhost:8080/"
        },
        "id": "P3ziyqfqejo2",
        "outputId": "40db01a3-23ef-48e6-8c2f-ab1d76576e11"
      },
      "id": "P3ziyqfqejo2",
      "execution_count": null,
      "outputs": [
        {
          "output_type": "stream",
          "name": "stdout",
          "text": [
            "language\n",
            "1.0    1144\n",
            "2.0     188\n",
            "3.0       3\n",
            "dtype: int64\n",
            " \n"
          ]
        },
        {
          "output_type": "execute_result",
          "data": {
            "text/plain": [
              "language\n",
              "1.0    0.828385\n",
              "2.0    0.136133\n",
              "3.0    0.002172\n",
              "dtype: float64"
            ]
          },
          "metadata": {},
          "execution_count": 21
        }
      ]
    },
    {
      "cell_type": "markdown",
      "source": [
        "language: 82% english, 14% spanish / other, 4% missing\n",
        "keep language and group into english / not english / missing\n",
        "\n",
        "other language had 2 additional patients. create new language feature that has english / not english and include the other language column"
      ],
      "metadata": {
        "id": "Hdwqj9yRfdSp"
      },
      "id": "Hdwqj9yRfdSp"
    },
    {
      "cell_type": "code",
      "source": [
        "lang_cols = ['language', 'other_language']\n",
        "lang_conditions = [data['language'] == 1]\n",
        "\n",
        "data['language'] = np.select(lang_conditions, [1], default=2)\n",
        "data[\"language\"].value_counts().plot(kind='bar')"
      ],
      "metadata": {
        "colab": {
          "base_uri": "https://localhost:8080/",
          "height": 282
        },
        "id": "AbGdGJweggu7",
        "outputId": "791c0bea-0a21-46e2-f691-e674b1ff3798"
      },
      "id": "AbGdGJweggu7",
      "execution_count": null,
      "outputs": [
        {
          "output_type": "execute_result",
          "data": {
            "text/plain": [
              "<matplotlib.axes._subplots.AxesSubplot at 0x7fd244ed1710>"
            ]
          },
          "metadata": {},
          "execution_count": 22
        },
        {
          "output_type": "display_data",
          "data": {
            "text/plain": [
              "<Figure size 432x288 with 1 Axes>"
            ],
            "image/png": "[encoded data removed]"
          },
          "metadata": {
            "needs_background": "light"
          }
        }
      ]
    },
    {
      "cell_type": "code",
      "source": [
        "languageMax = data.groupby(['record_id'])['language'].max()\n",
        "languageMax = pd.DataFrame(languageMax)\n",
        "\n",
        "languageMaxN=languageMax.groupby(by = 'language').size()\n",
        "print(languageMaxN)\n",
        "print(\" \")\n",
        "languageMaxN / uniquePatients"
      ],
      "metadata": {
        "colab": {
          "base_uri": "https://localhost:8080/"
        },
        "id": "bD1OhM1jgT57",
        "outputId": "fc1302a0-ae78-4538-d3c8-900351420c9f"
      },
      "id": "bD1OhM1jgT57",
      "execution_count": null,
      "outputs": [
        {
          "output_type": "stream",
          "name": "stdout",
          "text": [
            "language\n",
            "1    1117\n",
            "2     264\n",
            "dtype: int64\n",
            " \n"
          ]
        },
        {
          "output_type": "execute_result",
          "data": {
            "text/plain": [
              "language\n",
              "1    0.808834\n",
              "2    0.191166\n",
              "dtype: float64"
            ]
          },
          "metadata": {},
          "execution_count": 23
        }
      ]
    },
    {
      "cell_type": "markdown",
      "source": [
        "language --> combine language + other language columns and create new language column\n",
        "\n",
        "**Original Values:**\n",
        "- 1 = English\n",
        "- 2 = Spanish\n",
        "- 3 = Other\n",
        "- Other language specified\n",
        "\n",
        "**New Values:**\n",
        "- 1 = English\n",
        "- 2 = Non English\n",
        "\n",
        "Non English is priotized by taking the max value. If patient had a non english language checked, that value was prioritized over all other patient records. \n",
        "\n",
        "keep language in features"
      ],
      "metadata": {
        "id": "0lGRpq0ch5Nb"
      },
      "id": "0lGRpq0ch5Nb"
    },
    {
      "cell_type": "code",
      "source": [
        "genderMax = data.groupby(['record_id'])['sex_gender'].max()\n",
        "genderMax = pd.DataFrame(genderMax)\n",
        "\n",
        "genderMaxN=genderMax.groupby(by = 'sex_gender').size()\n",
        "print(genderMaxN)\n",
        "print(\" \")\n",
        "genderMaxN / uniquePatients"
      ],
      "metadata": {
        "colab": {
          "base_uri": "https://localhost:8080/"
        },
        "id": "Uw_LL4Jej0IT",
        "outputId": "4fe717a0-c6bb-49a5-ed7b-32a78ae32227"
      },
      "id": "Uw_LL4Jej0IT",
      "execution_count": null,
      "outputs": [
        {
          "output_type": "stream",
          "name": "stdout",
          "text": [
            "sex_gender\n",
            "1.0    643\n",
            "2.0    695\n",
            "3.0      2\n",
            "dtype: int64\n",
            " \n"
          ]
        },
        {
          "output_type": "execute_result",
          "data": {
            "text/plain": [
              "sex_gender\n",
              "1.0    0.465605\n",
              "2.0    0.503259\n",
              "3.0    0.001448\n",
              "dtype: float64"
            ]
          },
          "metadata": {},
          "execution_count": 24
        }
      ]
    },
    {
      "cell_type": "markdown",
      "source": [
        "less than 4% missing -- keep gender in features"
      ],
      "metadata": {
        "id": "kb57G3IqmEau"
      },
      "id": "kb57G3IqmEau"
    },
    {
      "cell_type": "code",
      "source": [
        "ageMax = data.groupby(['record_id'])['age'].max()\n",
        "ageMax = pd.DataFrame(ageMax)\n",
        "\n",
        "ageMaxN=ageMax.groupby(by = 'age').size()\n",
        "print(sum(ageMaxN / uniquePatients))\n",
        "\n",
        "fig = plt.figure(figsize=(15,5))\n",
        "data[\"age\"].value_counts().plot(kind='bar')"
      ],
      "metadata": {
        "colab": {
          "base_uri": "https://localhost:8080/",
          "height": 367
        },
        "id": "jmR7W2VGmIYi",
        "outputId": "e3970e5e-88e6-498d-a2d6-7d2c02de6a60"
      },
      "id": "jmR7W2VGmIYi",
      "execution_count": null,
      "outputs": [
        {
          "output_type": "stream",
          "name": "stdout",
          "text": [
            "0.7400434467776972\n"
          ]
        },
        {
          "output_type": "execute_result",
          "data": {
            "text/plain": [
              "<matplotlib.axes._subplots.AxesSubplot at 0x7fd244e48f50>"
            ]
          },
          "metadata": {},
          "execution_count": 25
        },
        {
          "output_type": "display_data",
          "data": {
            "text/plain": [
              "<Figure size 1080x360 with 1 Axes>"
            ],
            "image/png": "[encoded data removed]"
          },
          "metadata": {
            "needs_background": "light"
          }
        }
      ]
    },
    {
      "cell_type": "markdown",
      "source": [
        "74% of age is populated -- keep age in dataset"
      ],
      "metadata": {
        "id": "RDgiBfewn08O"
      },
      "id": "RDgiBfewn08O"
    },
    {
      "cell_type": "code",
      "source": [
        "unhousedMax = data.groupby(['record_id'])['unhoused'].max()\n",
        "unhousedMax = pd.DataFrame(unhousedMax)\n",
        "\n",
        "unhousedMaxN=unhousedMax.groupby(by = 'unhoused').size()\n",
        "print(sum(unhousedMaxN / uniquePatients))\n",
        "print(\" \")\n",
        "print(unhousedMaxN)\n",
        "print(\" \")\n",
        "unhousedMaxN / uniquePatients"
      ],
      "metadata": {
        "colab": {
          "base_uri": "https://localhost:8080/"
        },
        "id": "cD9bv7d9o7y3",
        "outputId": "780fd9e1-d8f7-4fb7-d3a5-f7a699ab4304"
      },
      "id": "cD9bv7d9o7y3",
      "execution_count": null,
      "outputs": [
        {
          "output_type": "stream",
          "name": "stdout",
          "text": [
            "0.9594496741491673\n",
            " \n",
            "unhoused\n",
            "0.0    1277\n",
            "1.0      33\n",
            "2.0      15\n",
            "dtype: int64\n",
            " \n"
          ]
        },
        {
          "output_type": "execute_result",
          "data": {
            "text/plain": [
              "unhoused\n",
              "0.0    0.924692\n",
              "1.0    0.023896\n",
              "2.0    0.010862\n",
              "dtype: float64"
            ]
          },
          "metadata": {},
          "execution_count": 26
        }
      ]
    },
    {
      "cell_type": "markdown",
      "source": [
        "95% of unhoused is populated but 92% of it means No.\n",
        "\n",
        "removing this metric and will capture in housing and security"
      ],
      "metadata": {
        "id": "fkzklkUgp0I4"
      },
      "id": "fkzklkUgp0I4"
    },
    {
      "cell_type": "markdown",
      "source": [
        "re-label health insurance based on prior work\n",
        "\n",
        "**Original Values**\n",
        "\n",
        "*   1 = Uninsured\n",
        "*   2 = Medicaid\n",
        "*   3 = Medicare\n",
        "*   7 = Medicare & Medicaid\n",
        "*   8 = Medicare & Private Insurance\n",
        "*   4 = Other public insurance\n",
        "*   5 = Private Insurance\n",
        "*   6 = Not listed/not sure\n",
        "\n",
        "**New Values**\n",
        "\n",
        "\n",
        "*   1 = Uninsured\n",
        "*   2 = Public\n",
        "*   3 = Private\n",
        "*   -1 = Not listed / NA"
      ],
      "metadata": {
        "id": "Cvz8oZnNjO72"
      },
      "id": "Cvz8oZnNjO72"
    },
    {
      "cell_type": "code",
      "source": [
        "medicare = data['health_insurance'] == 3\n",
        "data.loc[medicare,'health_insurance'] = 2\n",
        "\n",
        "medicaidMedicare = data['health_insurance'] == 7\n",
        "data.loc[medicaidMedicare,'health_insurance'] = 2\n",
        "\n",
        "medicarePrivate = data['health_insurance'] == 8\n",
        "data.loc[medicarePrivate,'health_insurance'] = 3\n",
        "\n",
        "otherPublic = data['health_insurance'] == 4\n",
        "data.loc[otherPublic,'health_insurance'] = 2\n",
        "\n",
        "private = data['health_insurance'] == 5\n",
        "data.loc[private,'health_insurance'] = 3\n",
        "\n",
        "notlistNA = data['health_insurance'] == 6\n",
        "data.loc[notlistNA,'health_insurance'] = -1"
      ],
      "metadata": {
        "id": "CCO1O47GfJ7q"
      },
      "id": "CCO1O47GfJ7q",
      "execution_count": null,
      "outputs": []
    },
    {
      "cell_type": "code",
      "source": [
        "insMax = data.groupby(['record_id'])['health_insurance'].max()\n",
        "insMax = pd.DataFrame(insMax)\n",
        "\n",
        "insMaxN=insMax.groupby(by = 'health_insurance').size()\n",
        "print(sum(insMaxN / uniquePatients))\n",
        "print(\" \")\n",
        "print(insMaxN)\n",
        "print(\" \")\n",
        "insMaxN / uniquePatients"
      ],
      "metadata": {
        "colab": {
          "base_uri": "https://localhost:8080/"
        },
        "id": "TKDcC2fElImC",
        "outputId": "26623491-89e0-4db4-9ceb-3a3dff5f7d5c"
      },
      "id": "TKDcC2fElImC",
      "execution_count": null,
      "outputs": [
        {
          "output_type": "stream",
          "name": "stdout",
          "text": [
            "0.2621288921071687\n",
            " \n",
            "health_insurance\n",
            "-1.0      4\n",
            " 1.0     38\n",
            " 2.0    265\n",
            " 3.0     55\n",
            "dtype: int64\n",
            " \n"
          ]
        },
        {
          "output_type": "execute_result",
          "data": {
            "text/plain": [
              "health_insurance\n",
              "-1.0    0.002896\n",
              " 1.0    0.027516\n",
              " 2.0    0.191890\n",
              " 3.0    0.039826\n",
              "dtype: float64"
            ]
          },
          "metadata": {},
          "execution_count": 28
        }
      ]
    },
    {
      "cell_type": "markdown",
      "source": [
        "26% health insurance is specified - keep for now"
      ],
      "metadata": {
        "id": "sF3qmGYalqOa"
      },
      "id": "sF3qmGYalqOa"
    },
    {
      "cell_type": "code",
      "source": [
        "diabetesMax = data.groupby(['record_id'])['diabetes'].max()\n",
        "diabetesMax = pd.DataFrame(diabetesMax)\n",
        "\n",
        "diabetesMaxN=diabetesMax.groupby(by = 'diabetes').size()\n",
        "print(sum(diabetesMaxN / uniquePatients))\n",
        "print(\" \")\n",
        "print(diabetesMaxN)\n",
        "print(\" \")\n",
        "diabetesMaxN / uniquePatients"
      ],
      "metadata": {
        "colab": {
          "base_uri": "https://localhost:8080/"
        },
        "id": "JsyaC6ydl1HY",
        "outputId": "148fd0ee-97f9-4a33-a0cb-3262f8c265c6"
      },
      "id": "JsyaC6ydl1HY",
      "execution_count": null,
      "outputs": [
        {
          "output_type": "stream",
          "name": "stdout",
          "text": [
            "0.6466328747284575\n",
            " \n",
            "diabetes\n",
            "0.0    494\n",
            "1.0    399\n",
            "dtype: int64\n",
            " \n"
          ]
        },
        {
          "output_type": "execute_result",
          "data": {
            "text/plain": [
              "diabetes\n",
              "0.0    0.357712\n",
              "1.0    0.288921\n",
              "dtype: float64"
            ]
          },
          "metadata": {},
          "execution_count": 29
        }
      ]
    },
    {
      "cell_type": "markdown",
      "source": [
        "65% diabetes yes or no specified with a 36%/29% split - keep"
      ],
      "metadata": {
        "id": "MNjEipsQmnMK"
      },
      "id": "MNjEipsQmnMK"
    },
    {
      "cell_type": "code",
      "source": [
        "hypertensionMax = data.groupby(['record_id'])['hypertension'].max()\n",
        "hypertensionMax = pd.DataFrame(hypertensionMax)\n",
        "\n",
        "hypertensionMaxN=hypertensionMax.groupby(by = 'hypertension').size()\n",
        "print(sum(hypertensionMaxN / uniquePatients))\n",
        "print(\" \")\n",
        "print(hypertensionMaxN)\n",
        "print(\" \")\n",
        "hypertensionMaxN / uniquePatients"
      ],
      "metadata": {
        "colab": {
          "base_uri": "https://localhost:8080/"
        },
        "id": "0Q9GV3n-myAi",
        "outputId": "3d09169f-e8c0-4825-8524-54d21a1fe37c"
      },
      "id": "0Q9GV3n-myAi",
      "execution_count": null,
      "outputs": [
        {
          "output_type": "stream",
          "name": "stdout",
          "text": [
            "0.6393917451122375\n",
            " \n",
            "hypertension\n",
            "0.0    455\n",
            "1.0    428\n",
            "dtype: int64\n",
            " \n"
          ]
        },
        {
          "output_type": "execute_result",
          "data": {
            "text/plain": [
              "hypertension\n",
              "0.0    0.329471\n",
              "1.0    0.309920\n",
              "dtype: float64"
            ]
          },
          "metadata": {},
          "execution_count": 30
        }
      ]
    },
    {
      "cell_type": "markdown",
      "source": [
        "64% hypertension yes or no specified with 33% / 31% split -- keep"
      ],
      "metadata": {
        "id": "4-8zExA4nIJo"
      },
      "id": "4-8zExA4nIJo"
    },
    {
      "cell_type": "code",
      "source": [
        "asthmaMax = data.groupby(['record_id'])['asthma'].max()\n",
        "asthmaMax = pd.DataFrame(asthmaMax)\n",
        "\n",
        "asthmaMaxN=asthmaMax.groupby(by = 'asthma').size()\n",
        "print(sum(asthmaMaxN / uniquePatients))\n",
        "print(\" \")\n",
        "print(asthmaMaxN)\n",
        "print(\" \")\n",
        "asthmaMaxN / uniquePatients"
      ],
      "metadata": {
        "colab": {
          "base_uri": "https://localhost:8080/"
        },
        "id": "u6G7n4xxnNnL",
        "outputId": "68172d5c-cfa9-48a4-9ca8-d375f2022266"
      },
      "id": "u6G7n4xxnNnL",
      "execution_count": null,
      "outputs": [
        {
          "output_type": "stream",
          "name": "stdout",
          "text": [
            "0.5836350470673426\n",
            " \n",
            "asthma\n",
            "0.0    708\n",
            "1.0     98\n",
            "dtype: int64\n",
            " \n"
          ]
        },
        {
          "output_type": "execute_result",
          "data": {
            "text/plain": [
              "asthma\n",
              "0.0    0.512672\n",
              "1.0    0.070963\n",
              "dtype: float64"
            ]
          },
          "metadata": {},
          "execution_count": 31
        }
      ]
    },
    {
      "cell_type": "markdown",
      "source": [
        "59% asthma yes or no specified with 51% / 7% split -- keep"
      ],
      "metadata": {
        "id": "3sB6M3rRn3LV"
      },
      "id": "3sB6M3rRn3LV"
    },
    {
      "cell_type": "markdown",
      "source": [
        "Create new feature that checks if a patient has at least one comorbidity -- the more co-morbidities, the greater the risk? Combine Diabetes, Asthma, Hypertension"
      ],
      "metadata": {
        "id": "2YqhX_Tyn-0x"
      },
      "id": "2YqhX_Tyn-0x"
    },
    {
      "cell_type": "code",
      "source": [
        "comorbidity_cols = ['diabetes', 'asthma','hypertension']\n",
        "comorbidity_conditions = [data['diabetes'] == 1,\n",
        "                   data['asthma'] == 1,\n",
        "                   data['hypertension'] == 1]\n",
        "\n",
        "data['comorbidity'] = np.select(comorbidity_conditions, [1,1,1], default=0)\n",
        "data[\"comorbidity\"].value_counts().plot(kind='bar')"
      ],
      "metadata": {
        "colab": {
          "base_uri": "https://localhost:8080/",
          "height": 279
        },
        "id": "DfEm3yggrCnz",
        "outputId": "ce3be1f5-33be-41bc-d1f4-8ca1009145bf"
      },
      "id": "DfEm3yggrCnz",
      "execution_count": null,
      "outputs": [
        {
          "output_type": "execute_result",
          "data": {
            "text/plain": [
              "<matplotlib.axes._subplots.AxesSubplot at 0x7fd24545af90>"
            ]
          },
          "metadata": {},
          "execution_count": 32
        },
        {
          "output_type": "display_data",
          "data": {
            "text/plain": [
              "<Figure size 432x288 with 1 Axes>"
            ],
            "image/png": "[encoded data removed]"
          },
          "metadata": {
            "needs_background": "light"
          }
        }
      ]
    },
    {
      "cell_type": "code",
      "source": [
        "comorbidityMax = data.groupby(['record_id'])['comorbidity'].max()\n",
        "comorbidityMax = pd.DataFrame(comorbidityMax)\n",
        "\n",
        "comorbidityMaxN=comorbidityMax.groupby(by = 'comorbidity').size()\n",
        "print(comorbidityMaxN)\n",
        "print(\" \")\n",
        "comorbidityMaxN / uniquePatients"
      ],
      "metadata": {
        "colab": {
          "base_uri": "https://localhost:8080/"
        },
        "id": "pqBrMF5prbqu",
        "outputId": "e8b20319-c4f2-4937-9b20-02821b5199d3"
      },
      "id": "pqBrMF5prbqu",
      "execution_count": null,
      "outputs": [
        {
          "output_type": "stream",
          "name": "stdout",
          "text": [
            "comorbidity\n",
            "0    701\n",
            "1    680\n",
            "dtype: int64\n",
            " \n"
          ]
        },
        {
          "output_type": "execute_result",
          "data": {
            "text/plain": [
              "comorbidity\n",
              "0    0.507603\n",
              "1    0.492397\n",
              "dtype: float64"
            ]
          },
          "metadata": {},
          "execution_count": 33
        }
      ]
    },
    {
      "cell_type": "markdown",
      "source": [
        "About half of the patients had at least one comorbidity. Keep as feature."
      ],
      "metadata": {
        "id": "SrZhaJDZrvit"
      },
      "id": "SrZhaJDZrvit"
    },
    {
      "cell_type": "markdown",
      "source": [
        "Create feature that counts how many comorbidities a patient has based on asthma, hypertension, diabetes -- 1, 2 or all 3"
      ],
      "metadata": {
        "id": "2ayPIC4DsrTi"
      },
      "id": "2ayPIC4DsrTi"
    },
    {
      "cell_type": "code",
      "source": [
        "asthmaMax\n",
        "diabetesMax\n",
        "hypertensionMax\n",
        "\n",
        "asthmaDiabetes = pd.merge(asthmaMax,diabetesMax,how='outer', on='record_id')\n",
        "comorbiditiesCount = pd.merge(asthmaDiabetes,hypertensionMax,how='outer', on='record_id')\n",
        "\n",
        "comorbiditiesCount['sumComorbidities'] = comorbiditiesCount.sum(axis = 1)\n",
        "comorbiditiesCount\n",
        "\n",
        "comorbidityCountN=comorbiditiesCount.groupby(by = 'sumComorbidities').size()\n",
        "print(comorbidityCountN)\n",
        "print(\" \")\n",
        "comorbidityCountN / uniquePatients"
      ],
      "metadata": {
        "colab": {
          "base_uri": "https://localhost:8080/"
        },
        "id": "Cl7e9sv98cy_",
        "outputId": "064d1b2f-5383-4411-88f1-f29580e02c42"
      },
      "id": "Cl7e9sv98cy_",
      "execution_count": null,
      "outputs": [
        {
          "output_type": "stream",
          "name": "stdout",
          "text": [
            "sumComorbidities\n",
            "0.0    701\n",
            "1.0    456\n",
            "2.0    203\n",
            "3.0     21\n",
            "dtype: int64\n",
            " \n"
          ]
        },
        {
          "output_type": "execute_result",
          "data": {
            "text/plain": [
              "sumComorbidities\n",
              "0.0    0.507603\n",
              "1.0    0.330196\n",
              "2.0    0.146995\n",
              "3.0    0.015206\n",
              "dtype: float64"
            ]
          },
          "metadata": {},
          "execution_count": 34
        }
      ]
    },
    {
      "cell_type": "markdown",
      "source": [
        "word cloud of major terms -- frequency counts\n",
        "**text analysis for later**"
      ],
      "metadata": {
        "id": "MwmdQJr-jPIq"
      },
      "id": "MwmdQJr-jPIq"
    },
    {
      "cell_type": "code",
      "source": [
        "diagnosisNotes = tracking = data[['diagnoses_other']]\n",
        "diagnosisNotes = diagnosisNotes.dropna()"
      ],
      "metadata": {
        "id": "kDKtm_R5sz_I"
      },
      "id": "kDKtm_R5sz_I",
      "execution_count": null,
      "outputs": []
    },
    {
      "cell_type": "markdown",
      "source": [
        "remove demographics_and_contact_information_complete since it's informational"
      ],
      "metadata": {
        "id": "xzu7SJIRfsDn"
      },
      "id": "xzu7SJIRfsDn"
    },
    {
      "cell_type": "markdown",
      "source": [
        "### Demographics and Contact Metric Summary"
      ],
      "metadata": {
        "id": "WFayNAFgf15W"
      },
      "id": "WFayNAFgf15W"
    },
    {
      "cell_type": "markdown",
      "source": [
        "**Metrics to Keep:**\n",
        "\n",
        "\n",
        "*   type_sw_referral\n",
        "*   new race metric\n",
        "*   new language metric\n",
        "*   gender\n",
        "*   age\n",
        "*   new health insurance metric\n",
        "*   hypertension\n",
        "*   asthma\n",
        "*   diabetes\n",
        "*   comorbidities\n",
        "*   count of comorbidities\n",
        "\n",
        "**Metrics to Remove**\n",
        "\n",
        "*   other_sw_referral\n",
        "*   unhoused\n",
        "*   demographics_and_contact_information_complete\n",
        "\n",
        "\n",
        "\n"
      ],
      "metadata": {
        "id": "6p1mw-BFf-Ne"
      },
      "id": "6p1mw-BFf-Ne"
    },
    {
      "cell_type": "markdown",
      "source": [
        "# Contact Log"
      ],
      "metadata": {
        "id": "ovQFQupGj2RE"
      },
      "id": "ovQFQupGj2RE"
    },
    {
      "cell_type": "markdown",
      "source": [
        "attempt contact 1 - 10 is a yes / no - aggregate all of these to see how many attempts were made by patient"
      ],
      "metadata": {
        "id": "I_48ZT5fj_Sy"
      },
      "id": "I_48ZT5fj_Sy"
    },
    {
      "cell_type": "markdown",
      "source": [
        ""
      ],
      "metadata": {
        "id": "j53WEGC_jon2"
      },
      "id": "j53WEGC_jon2"
    },
    {
      "cell_type": "markdown",
      "source": [
        "**Do we treat null and zero the same or differently?**\n",
        "create -1 or 9 for null"
      ],
      "metadata": {
        "id": "rx88w9Bjl1Zr"
      },
      "id": "rx88w9Bjl1Zr"
    },
    {
      "cell_type": "code",
      "source": [
        "contact1sum = data.groupby(['record_id'])['attempt_contact1'].sum()\n",
        "contact1sum = pd.DataFrame(contact1sum)\n",
        "\n",
        "contact2sum = data.groupby(['record_id'])['attempt_contact2'].sum()\n",
        "contact2sum = pd.DataFrame(contact2sum)\n",
        "\n",
        "contact3sum = data.groupby(['record_id'])['attempt_contact3'].sum()\n",
        "contact3sum = pd.DataFrame(contact3sum)\n",
        "\n",
        "contact4sum = data.groupby(['record_id'])['attempt_contact4'].sum()\n",
        "contact4sum = pd.DataFrame(contact4sum)\n",
        "\n",
        "contact5sum = data.groupby(['record_id'])['attempt_contact5'].sum()\n",
        "contact5sum = pd.DataFrame(contact5sum)\n",
        "\n",
        "contact6sum = data.groupby(['record_id'])['attempt_contact6'].sum()\n",
        "contact6sum = pd.DataFrame(contact6sum)\n",
        "\n",
        "contact7sum = data.groupby(['record_id'])['attempt_contact7'].sum()\n",
        "contact7sum = pd.DataFrame(contact7sum)\n",
        "\n",
        "contact8sum = data.groupby(['record_id'])['attempt_contact8'].sum()\n",
        "contact8sum = pd.DataFrame(contact8sum)\n",
        "\n",
        "contact9sum = data.groupby(['record_id'])['attempt_contact9'].sum()\n",
        "contact9sum = pd.DataFrame(contact9sum)\n",
        "\n",
        "contact10sum = data.groupby(['record_id'])['attempt_contact10'].sum()\n",
        "contact10sum = pd.DataFrame(contact10sum)\n",
        "\n",
        "contact1_2 = pd.merge(contact1sum,contact2sum,how='outer', on='record_id')\n",
        "contact2_3 = pd.merge(contact1_2,contact3sum,how='outer', on='record_id')\n",
        "contact3_4 = pd.merge(contact2_3,contact4sum,how='outer', on='record_id')\n",
        "contact4_5 = pd.merge(contact3_4,contact5sum,how='outer', on='record_id')\n",
        "contact5_6 = pd.merge(contact4_5,contact6sum,how='outer', on='record_id')\n",
        "contact6_7 = pd.merge(contact5_6,contact7sum,how='outer', on='record_id')\n",
        "contact7_8 = pd.merge(contact6_7,contact8sum,how='outer', on='record_id')\n",
        "contact8_9 = pd.merge(contact7_8,contact9sum,how='outer', on='record_id')\n",
        "contactSum = pd.merge(contact8_9,contact10sum,how='outer', on='record_id')\n",
        "\n",
        "contactSum['sumContacts'] = contactSum.sum(axis = 1)\n",
        "\n",
        "contactCountN=contactSum.groupby(by = 'sumContacts').size()\n",
        "print(contactCountN)\n",
        "print(\" \")\n",
        "contactCountN / uniquePatients\n",
        "\n"
      ],
      "metadata": {
        "colab": {
          "base_uri": "https://localhost:8080/"
        },
        "id": "_ADL-gPuj8Z9",
        "outputId": "ccf86595-c509-4c0a-841a-ab919c2975c2"
      },
      "id": "_ADL-gPuj8Z9",
      "execution_count": null,
      "outputs": [
        {
          "output_type": "stream",
          "name": "stdout",
          "text": [
            "sumContacts\n",
            "0.0     661\n",
            "1.0     158\n",
            "2.0     135\n",
            "3.0     183\n",
            "4.0      79\n",
            "5.0      58\n",
            "6.0      45\n",
            "7.0      19\n",
            "8.0      15\n",
            "9.0       9\n",
            "10.0     11\n",
            "11.0      2\n",
            "12.0      1\n",
            "13.0      4\n",
            "17.0      1\n",
            "dtype: int64\n",
            " \n"
          ]
        },
        {
          "output_type": "execute_result",
          "data": {
            "text/plain": [
              "sumContacts\n",
              "0.0     0.478639\n",
              "1.0     0.114410\n",
              "2.0     0.097755\n",
              "3.0     0.132513\n",
              "4.0     0.057205\n",
              "5.0     0.041999\n",
              "6.0     0.032585\n",
              "7.0     0.013758\n",
              "8.0     0.010862\n",
              "9.0     0.006517\n",
              "10.0    0.007965\n",
              "11.0    0.001448\n",
              "12.0    0.000724\n",
              "13.0    0.002896\n",
              "17.0    0.000724\n",
              "dtype: float64"
            ]
          },
          "metadata": {},
          "execution_count": 42
        }
      ]
    },
    {
      "cell_type": "markdown",
      "source": [
        "create value = no call, 1 call, 2 calls, 3 calls, 4+ calls"
      ],
      "metadata": {
        "id": "EDDRvPEQmFfa"
      },
      "id": "EDDRvPEQmFfa"
    },
    {
      "cell_type": "code",
      "source": [
        "greater3 = contactSum['sumContacts'] >3\n",
        "contactSum.loc[greater3,'sumContacts'] = '4+'\n",
        "\n",
        "call3 = contactSum['sumContacts'] == 3\n",
        "contactSum.loc[call3,'sumContacts'] = '3 calls'\n",
        "\n",
        "call2 = contactSum['sumContacts'] == 2\n",
        "contactSum.loc[call2,'sumContacts'] = '2 calls'\n",
        "\n",
        "call1 = contactSum['sumContacts'] == 1\n",
        "contactSum.loc[call1,'sumContacts'] = '1 call'\n",
        "\n",
        "nocall = contactSum['sumContacts'] == 0\n",
        "contactSum.loc[nocall,'sumContacts'] = 'no calls'\n",
        "\n"
      ],
      "metadata": {
        "id": "YryNNuWeZW_Q"
      },
      "id": "YryNNuWeZW_Q",
      "execution_count": null,
      "outputs": []
    },
    {
      "cell_type": "code",
      "source": [
        "groupContactAttempts = contactSum.groupby(['record_id'])['sumContacts'].sum()\n",
        "groupContactAttempts = pd.DataFrame(groupContactAttempts)\n",
        "\n",
        "groupContactAttemptsN = groupContactAttempts.groupby(by = 'sumContacts').size()\n",
        "print(groupContactAttemptsN)\n",
        "print(\" \")\n",
        "groupContactAttemptsN / uniquePatients"
      ],
      "metadata": {
        "colab": {
          "base_uri": "https://localhost:8080/"
        },
        "id": "frLYEv8ScC5F",
        "outputId": "009c6041-6577-4b76-8a88-f067ca807c79"
      },
      "id": "frLYEv8ScC5F",
      "execution_count": null,
      "outputs": [
        {
          "output_type": "stream",
          "name": "stdout",
          "text": [
            "sumContacts\n",
            "1 call      158\n",
            "2 calls     135\n",
            "3 calls     183\n",
            "4+          244\n",
            "no calls    661\n",
            "dtype: int64\n",
            " \n"
          ]
        },
        {
          "output_type": "execute_result",
          "data": {
            "text/plain": [
              "sumContacts\n",
              "1 call      0.114410\n",
              "2 calls     0.097755\n",
              "3 calls     0.132513\n",
              "4+          0.176684\n",
              "no calls    0.478639\n",
              "dtype: float64"
            ]
          },
          "metadata": {},
          "execution_count": 48
        }
      ]
    },
    {
      "cell_type": "markdown",
      "source": [
        "remove date_contact_x -- informational\n",
        "\n",
        "remove time_contact_x -- informational"
      ],
      "metadata": {
        "id": "j9GM7XMqcjQa"
      },
      "id": "j9GM7XMqcjQa"
    },
    {
      "cell_type": "markdown",
      "source": [
        "**type_contact_x - is it important to know or can we remove?**"
      ],
      "metadata": {
        "id": "Uqw5lozuc9ra"
      },
      "id": "Uqw5lozuc9ra"
    },
    {
      "cell_type": "markdown",
      "source": [
        "outcome_contactx is important - create a variable that checks if 'spoke with patient' OR 'spoke with someone else'"
      ],
      "metadata": {
        "id": "48_KHLTHfLu_"
      },
      "id": "48_KHLTHfLu_"
    },
    {
      "cell_type": "code",
      "source": [
        "outcome_contact_cols = ['outcome_contact1', 'outcome_contact2','outcome_contact3','outcome_contact4','outcome_contact5','outcome_contact6','outcome_contact7','outcome_contact8','outcome_contact9', 'outcome_contact10']\n",
        "outcome_contact_conditions = [data['outcome_contact1'] == 6,\n",
        "                   data['outcome_contact2'] == 6,\n",
        "                   data['outcome_contact3'] == 6,\n",
        "                   data['outcome_contact4'] == 6,\n",
        "                   data['outcome_contact5'] == 6,\n",
        "                   data['outcome_contact6'] == 6,\n",
        "                   data['outcome_contact7'] == 6,\n",
        "                   data['outcome_contact8'] == 6,\n",
        "                   data['outcome_contact9'] == 6,\n",
        "                   data['outcome_contact10'] == 6,\n",
        "                   data['outcome_contact1'] == 3,\n",
        "                   data['outcome_contact2'] == 3,\n",
        "                   data['outcome_contact3'] == 3,\n",
        "                   data['outcome_contact4'] == 3,\n",
        "                   data['outcome_contact5'] == 3,\n",
        "                   data['outcome_contact6'] == 3,\n",
        "                   data['outcome_contact7'] == 3,\n",
        "                   data['outcome_contact8'] == 3,\n",
        "                   data['outcome_contact9'] == 3,\n",
        "                   data['outcome_contact10'] == 3,\n",
        "                   ]\n",
        "\n",
        "data['spoke_patient'] = np.select(outcome_contact_conditions, [1, 1, 1, 1, 1, 1, 1, 1, 1, 1, 1, 1, 1, 1, 1, 1, 1, 1, 1, 1], default=0)"
      ],
      "metadata": {
        "id": "pT7GZ0mvfiz3"
      },
      "id": "pT7GZ0mvfiz3",
      "execution_count": null,
      "outputs": []
    },
    {
      "cell_type": "code",
      "source": [
        "spokePatientYN = data.groupby(['record_id'])['spoke_patient'].max()\n",
        "spokePatientYN = pd.DataFrame(spokePatientYN)\n",
        "\n",
        "spokePatientYN_N = spokePatientYN.groupby(by = 'spoke_patient').size()\n",
        "print(spokePatientYN_N)\n",
        "print(\" \")\n",
        "spokePatientYN_N / uniquePatients"
      ],
      "metadata": {
        "colab": {
          "base_uri": "https://localhost:8080/"
        },
        "id": "HeklCVXKiOyt",
        "outputId": "d5eb403e-7cd6-403f-e8a4-3f3def24d93f"
      },
      "id": "HeklCVXKiOyt",
      "execution_count": null,
      "outputs": [
        {
          "output_type": "stream",
          "name": "stdout",
          "text": [
            "spoke_patient\n",
            "0    853\n",
            "1    528\n",
            "dtype: int64\n",
            " \n"
          ]
        },
        {
          "output_type": "execute_result",
          "data": {
            "text/plain": [
              "spoke_patient\n",
              "0    0.617668\n",
              "1    0.382332\n",
              "dtype: float64"
            ]
          },
          "metadata": {},
          "execution_count": 52
        }
      ]
    },
    {
      "cell_type": "markdown",
      "source": [
        "**How do we handle patients that did not have any contact attempts but spoke with patient? Use OR to check contact attempts > 1 OR spoke with patient?**"
      ],
      "metadata": {
        "id": "KnSRaMXtkhhH"
      },
      "id": "KnSRaMXtkhhH"
    },
    {
      "cell_type": "markdown",
      "source": [
        "Don't need individual lengths of each attempt. Can use sum_contact_attempts_calc to look at sum of all contacts by patient."
      ],
      "metadata": {
        "id": "bNPBpaIBmgS-"
      },
      "id": "bNPBpaIBmgS-"
    },
    {
      "cell_type": "code",
      "source": [
        "sumContactLength = data.groupby(['record_id'])['sum_contact_attempts_calc'].sum()\n",
        "sumContactLength = pd.DataFrame(sumContactLength)\n",
        "\n",
        "sumContactLengthN = sumContactLength.groupby(by = 'sum_contact_attempts_calc').size()\n",
        "print(sumContactLengthN)\n",
        "print(\" \")\n",
        "sumContactLengthN / uniquePatients\n",
        "\n",
        "sumContactLength[\"sum_contact_attempts_calc\"].value_counts().plot(kind='bar')"
      ],
      "metadata": {
        "colab": {
          "base_uri": "https://localhost:8080/",
          "height": 544
        },
        "id": "QR5MfXTOmpJo",
        "outputId": "90b7a0ad-9b78-4af0-fedc-a0d1886a3b2d"
      },
      "id": "QR5MfXTOmpJo",
      "execution_count": null,
      "outputs": [
        {
          "output_type": "stream",
          "name": "stdout",
          "text": [
            "sum_contact_attempts_calc\n",
            "0.0      868\n",
            "1.0       14\n",
            "2.0       27\n",
            "3.0       30\n",
            "4.0       22\n",
            "        ... \n",
            "124.0      1\n",
            "126.0      1\n",
            "151.0      1\n",
            "190.0      1\n",
            "197.0      1\n",
            "Length: 71, dtype: int64\n",
            " \n"
          ]
        },
        {
          "output_type": "execute_result",
          "data": {
            "text/plain": [
              "<matplotlib.axes._subplots.AxesSubplot at 0x7fd2448e7e10>"
            ]
          },
          "metadata": {},
          "execution_count": 54
        },
        {
          "output_type": "display_data",
          "data": {
            "text/plain": [
              "<Figure size 432x288 with 1 Axes>"
            ],
            "image/png": "[encoded data removed]"
          },
          "metadata": {
            "needs_background": "light"
          }
        }
      ]
    }
  ],
  "metadata": {
    "kernelspec": {
      "display_name": "Python 3",
      "language": "python",
      "name": "python3"
    },
    "language_info": {
      "codemirror_mode": {
        "name": "ipython",
        "version": 3
      },
      "file_extension": ".py",
      "mimetype": "text/x-python",
      "name": "python",
      "nbconvert_exporter": "python",
      "pygments_lexer": "ipython3",
      "version": "3.8.8"
    },
    "colab": {
      "name": "SUHI_KK_v1.ipynb",
      "provenance": [],
      "collapsed_sections": [],
      "include_colab_link": true
    }
  },
  "nbformat": 4,
  "nbformat_minor": 5
}